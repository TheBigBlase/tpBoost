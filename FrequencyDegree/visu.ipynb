{
 "cells": [
  {
   "cell_type": "code",
   "execution_count": 1,
   "metadata": {},
   "outputs": [],
   "source": [
    "import json\n",
    "import os\n",
    "import plotly.express as px"
   ]
  },
  {
   "cell_type": "code",
   "execution_count": 2,
   "metadata": {},
   "outputs": [
    {
     "name": "stdout",
     "output_type": "stream",
     "text": [
      "[]\n"
     ]
    }
   ],
   "source": [
    "jsonPath = './'\n",
    "jsonFiles = [jsonFile for jsonFile in os.listdir(jsonPath) if jsonFile.endswith('.json')]\n",
    "print(jsonFiles)"
   ]
  },
  {
   "cell_type": "code",
   "execution_count": 3,
   "metadata": {},
   "outputs": [],
   "source": [
    "for file in jsonFiles:\n",
    "    f = open(file, 'r', encoding='utf-8')\n",
    "    data = json.loads(f.read())\n",
    "    \n",
    "    fig = px.bar(data, x='degree', y='freq', title=f.name)\n",
    "    fig.show()\n",
    "\n",
    "    f.close()"
   ]
  },
  {
   "cell_type": "code",
   "execution_count": null,
   "metadata": {},
   "outputs": [],
   "source": []
  }
 ],
 "metadata": {
  "kernelspec": {
   "display_name": "Python 3",
   "language": "python",
   "name": "python3"
  },
  "language_info": {
   "codemirror_mode": {
    "name": "ipython",
    "version": 3
   },
   "file_extension": ".py",
   "mimetype": "text/x-python",
   "name": "python",
   "nbconvert_exporter": "python",
   "pygments_lexer": "ipython3",
   "version": "3.10.2"
  },
  "orig_nbformat": 4,
  "vscode": {
   "interpreter": {
    "hash": "e8df265900491b6da3557d757037de5afc32f4374ee1debc5fa94c2e3c373353"
   }
  }
 },
 "nbformat": 4,
 "nbformat_minor": 2
}
